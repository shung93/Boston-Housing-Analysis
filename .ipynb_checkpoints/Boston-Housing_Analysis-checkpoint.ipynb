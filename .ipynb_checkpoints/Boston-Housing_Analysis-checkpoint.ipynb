{
 "cells": [
  {
   "cell_type": "code",
   "execution_count": 3,
   "metadata": {},
   "outputs": [],
   "source": [
    "import IPython\n",
    "import numpy as np\n",
    "import scipy as sp\n",
    "import pandas as pd\n",
    "import matplotlib\n",
    "import sklearn\n",
    "import time "
   ]
  },
  {
   "cell_type": "markdown",
   "metadata": {},
   "source": [
    "---\n",
    "\n",
    "## Introduction to the assignment\n",
    "\n",
    "For this assignment, you will be using the Boston Housing Prices Data Set.  This used to be housed by [UCI Machine Learning Repository](http://archive.ics.uci.edu/ml/datasets/Housing), but it is not housed there any more. You can read about it at [Kaggle](https://www.kaggle.com/vikrishnan/boston-house-prices) and at the [University of Toronto](https://www.cs.toronto.edu/~delve/data/boston/bostonDetail.html). Please read about the dataset carefully before continuing.  Use the following commands to load the dataset:\n"
   ]
  },
  {
   "cell_type": "code",
   "execution_count": 2,
   "metadata": {},
   "outputs": [],
   "source": [
    "from sklearn.datasets import load_boston\n",
    "bdata = load_boston()"
   ]
  },
  {
   "cell_type": "markdown",
   "metadata": {},
   "source": [
    "The following commands will provide some basic information about the shape of the data:"
   ]
  },
  {
   "cell_type": "code",
   "execution_count": 1,
   "metadata": {},
   "outputs": [],
   "source": [
    "# print(bdata.keys())\n",
    "# print(bdata.feature_names) # column names\n",
    "# print(bdata.data.shape) # the data of the features\n",
    "# print(bdata.target.shape) # target price of the houses with feature data \n",
    "# # uncomment the following if you want to see a lengthy description of the dataset\n",
    "# print(bdata.DESCR)"
   ]
  },
  {
   "cell_type": "markdown",
   "metadata": {},
   "source": [
    "---\n",
    "\n",
    "## Part 1: Descriptive analysis\n"
   ]
  },
  {
   "cell_type": "markdown",
   "metadata": {},
   "source": [
    "### Converting the Boston Housing Dataset into a DataFrame \n",
    "\n",
    "Converted data to a dataframe for plotting, EDA, and manipulation. "
   ]
  },
  {
   "cell_type": "code",
   "execution_count": 4,
   "metadata": {},
   "outputs": [
    {
     "data": {
      "text/html": [
       "<div>\n",
       "<style scoped>\n",
       "    .dataframe tbody tr th:only-of-type {\n",
       "        vertical-align: middle;\n",
       "    }\n",
       "\n",
       "    .dataframe tbody tr th {\n",
       "        vertical-align: top;\n",
       "    }\n",
       "\n",
       "    .dataframe thead th {\n",
       "        text-align: right;\n",
       "    }\n",
       "</style>\n",
       "<table border=\"1\" class=\"dataframe\">\n",
       "  <thead>\n",
       "    <tr style=\"text-align: right;\">\n",
       "      <th></th>\n",
       "      <th>CRIM</th>\n",
       "      <th>ZN</th>\n",
       "      <th>INDUS</th>\n",
       "      <th>CHAS</th>\n",
       "      <th>NOX</th>\n",
       "      <th>RM</th>\n",
       "      <th>AGE</th>\n",
       "      <th>DIS</th>\n",
       "      <th>RAD</th>\n",
       "      <th>TAX</th>\n",
       "      <th>PTRATIO</th>\n",
       "      <th>B</th>\n",
       "      <th>LSTAT</th>\n",
       "      <th>MEDV</th>\n",
       "    </tr>\n",
       "  </thead>\n",
       "  <tbody>\n",
       "    <tr>\n",
       "      <th>0</th>\n",
       "      <td>0.00632</td>\n",
       "      <td>18.0</td>\n",
       "      <td>2.31</td>\n",
       "      <td>0.0</td>\n",
       "      <td>0.538</td>\n",
       "      <td>6.575</td>\n",
       "      <td>65.2</td>\n",
       "      <td>4.0900</td>\n",
       "      <td>1.0</td>\n",
       "      <td>296.0</td>\n",
       "      <td>15.3</td>\n",
       "      <td>396.90</td>\n",
       "      <td>4.98</td>\n",
       "      <td>24.0</td>\n",
       "    </tr>\n",
       "    <tr>\n",
       "      <th>1</th>\n",
       "      <td>0.02731</td>\n",
       "      <td>0.0</td>\n",
       "      <td>7.07</td>\n",
       "      <td>0.0</td>\n",
       "      <td>0.469</td>\n",
       "      <td>6.421</td>\n",
       "      <td>78.9</td>\n",
       "      <td>4.9671</td>\n",
       "      <td>2.0</td>\n",
       "      <td>242.0</td>\n",
       "      <td>17.8</td>\n",
       "      <td>396.90</td>\n",
       "      <td>9.14</td>\n",
       "      <td>21.6</td>\n",
       "    </tr>\n",
       "    <tr>\n",
       "      <th>2</th>\n",
       "      <td>0.02729</td>\n",
       "      <td>0.0</td>\n",
       "      <td>7.07</td>\n",
       "      <td>0.0</td>\n",
       "      <td>0.469</td>\n",
       "      <td>7.185</td>\n",
       "      <td>61.1</td>\n",
       "      <td>4.9671</td>\n",
       "      <td>2.0</td>\n",
       "      <td>242.0</td>\n",
       "      <td>17.8</td>\n",
       "      <td>392.83</td>\n",
       "      <td>4.03</td>\n",
       "      <td>34.7</td>\n",
       "    </tr>\n",
       "  </tbody>\n",
       "</table>\n",
       "</div>"
      ],
      "text/plain": [
       "      CRIM    ZN  INDUS  CHAS    NOX     RM   AGE     DIS  RAD    TAX  \\\n",
       "0  0.00632  18.0   2.31   0.0  0.538  6.575  65.2  4.0900  1.0  296.0   \n",
       "1  0.02731   0.0   7.07   0.0  0.469  6.421  78.9  4.9671  2.0  242.0   \n",
       "2  0.02729   0.0   7.07   0.0  0.469  7.185  61.1  4.9671  2.0  242.0   \n",
       "\n",
       "   PTRATIO       B  LSTAT  MEDV  \n",
       "0     15.3  396.90   4.98  24.0  \n",
       "1     17.8  396.90   9.14  21.6  \n",
       "2     17.8  392.83   4.03  34.7  "
      ]
     },
     "execution_count": 4,
     "metadata": {},
     "output_type": "execute_result"
    }
   ],
   "source": [
    "bdata_df = pd.DataFrame(bdata.data) # convert bdata.data (the 'data' key in bdata) to a dataframe\n",
    "bdata_df.columns = bdata.feature_names # putting the feature names as the column headers\n",
    "bdata_df['MEDV'] = bdata.target # create a column for the target price of houses with the data \n",
    "bdata_df.head(3)"
   ]
  },
  {
   "cell_type": "code",
   "execution_count": 5,
   "metadata": {},
   "outputs": [
    {
     "data": {
      "text/html": [
       "<div>\n",
       "<style scoped>\n",
       "    .dataframe tbody tr th:only-of-type {\n",
       "        vertical-align: middle;\n",
       "    }\n",
       "\n",
       "    .dataframe tbody tr th {\n",
       "        vertical-align: top;\n",
       "    }\n",
       "\n",
       "    .dataframe thead th {\n",
       "        text-align: right;\n",
       "    }\n",
       "</style>\n",
       "<table border=\"1\" class=\"dataframe\">\n",
       "  <thead>\n",
       "    <tr style=\"text-align: right;\">\n",
       "      <th></th>\n",
       "      <th>CRIM</th>\n",
       "      <th>ZN</th>\n",
       "      <th>INDUS</th>\n",
       "      <th>CHAS</th>\n",
       "      <th>NOX</th>\n",
       "      <th>RM</th>\n",
       "      <th>AGE</th>\n",
       "      <th>DIS</th>\n",
       "      <th>RAD</th>\n",
       "      <th>TAX</th>\n",
       "      <th>PTRATIO</th>\n",
       "      <th>B</th>\n",
       "      <th>LSTAT</th>\n",
       "      <th>MEDV</th>\n",
       "    </tr>\n",
       "  </thead>\n",
       "  <tbody>\n",
       "    <tr>\n",
       "      <th>count</th>\n",
       "      <td>506.000000</td>\n",
       "      <td>506.000000</td>\n",
       "      <td>506.000000</td>\n",
       "      <td>506.000000</td>\n",
       "      <td>506.000000</td>\n",
       "      <td>506.000000</td>\n",
       "      <td>506.000000</td>\n",
       "      <td>506.000000</td>\n",
       "      <td>506.000000</td>\n",
       "      <td>506.000000</td>\n",
       "      <td>506.000000</td>\n",
       "      <td>506.000000</td>\n",
       "      <td>506.000000</td>\n",
       "      <td>506.000000</td>\n",
       "    </tr>\n",
       "    <tr>\n",
       "      <th>mean</th>\n",
       "      <td>3.613524</td>\n",
       "      <td>11.363636</td>\n",
       "      <td>11.136779</td>\n",
       "      <td>0.069170</td>\n",
       "      <td>0.554695</td>\n",
       "      <td>6.284634</td>\n",
       "      <td>68.574901</td>\n",
       "      <td>3.795043</td>\n",
       "      <td>9.549407</td>\n",
       "      <td>408.237154</td>\n",
       "      <td>18.455534</td>\n",
       "      <td>356.674032</td>\n",
       "      <td>12.653063</td>\n",
       "      <td>22.532806</td>\n",
       "    </tr>\n",
       "    <tr>\n",
       "      <th>std</th>\n",
       "      <td>8.601545</td>\n",
       "      <td>23.322453</td>\n",
       "      <td>6.860353</td>\n",
       "      <td>0.253994</td>\n",
       "      <td>0.115878</td>\n",
       "      <td>0.702617</td>\n",
       "      <td>28.148861</td>\n",
       "      <td>2.105710</td>\n",
       "      <td>8.707259</td>\n",
       "      <td>168.537116</td>\n",
       "      <td>2.164946</td>\n",
       "      <td>91.294864</td>\n",
       "      <td>7.141062</td>\n",
       "      <td>9.197104</td>\n",
       "    </tr>\n",
       "    <tr>\n",
       "      <th>min</th>\n",
       "      <td>0.006320</td>\n",
       "      <td>0.000000</td>\n",
       "      <td>0.460000</td>\n",
       "      <td>0.000000</td>\n",
       "      <td>0.385000</td>\n",
       "      <td>3.561000</td>\n",
       "      <td>2.900000</td>\n",
       "      <td>1.129600</td>\n",
       "      <td>1.000000</td>\n",
       "      <td>187.000000</td>\n",
       "      <td>12.600000</td>\n",
       "      <td>0.320000</td>\n",
       "      <td>1.730000</td>\n",
       "      <td>5.000000</td>\n",
       "    </tr>\n",
       "    <tr>\n",
       "      <th>25%</th>\n",
       "      <td>0.082045</td>\n",
       "      <td>0.000000</td>\n",
       "      <td>5.190000</td>\n",
       "      <td>0.000000</td>\n",
       "      <td>0.449000</td>\n",
       "      <td>5.885500</td>\n",
       "      <td>45.025000</td>\n",
       "      <td>2.100175</td>\n",
       "      <td>4.000000</td>\n",
       "      <td>279.000000</td>\n",
       "      <td>17.400000</td>\n",
       "      <td>375.377500</td>\n",
       "      <td>6.950000</td>\n",
       "      <td>17.025000</td>\n",
       "    </tr>\n",
       "    <tr>\n",
       "      <th>50%</th>\n",
       "      <td>0.256510</td>\n",
       "      <td>0.000000</td>\n",
       "      <td>9.690000</td>\n",
       "      <td>0.000000</td>\n",
       "      <td>0.538000</td>\n",
       "      <td>6.208500</td>\n",
       "      <td>77.500000</td>\n",
       "      <td>3.207450</td>\n",
       "      <td>5.000000</td>\n",
       "      <td>330.000000</td>\n",
       "      <td>19.050000</td>\n",
       "      <td>391.440000</td>\n",
       "      <td>11.360000</td>\n",
       "      <td>21.200000</td>\n",
       "    </tr>\n",
       "    <tr>\n",
       "      <th>75%</th>\n",
       "      <td>3.677083</td>\n",
       "      <td>12.500000</td>\n",
       "      <td>18.100000</td>\n",
       "      <td>0.000000</td>\n",
       "      <td>0.624000</td>\n",
       "      <td>6.623500</td>\n",
       "      <td>94.075000</td>\n",
       "      <td>5.188425</td>\n",
       "      <td>24.000000</td>\n",
       "      <td>666.000000</td>\n",
       "      <td>20.200000</td>\n",
       "      <td>396.225000</td>\n",
       "      <td>16.955000</td>\n",
       "      <td>25.000000</td>\n",
       "    </tr>\n",
       "    <tr>\n",
       "      <th>max</th>\n",
       "      <td>88.976200</td>\n",
       "      <td>100.000000</td>\n",
       "      <td>27.740000</td>\n",
       "      <td>1.000000</td>\n",
       "      <td>0.871000</td>\n",
       "      <td>8.780000</td>\n",
       "      <td>100.000000</td>\n",
       "      <td>12.126500</td>\n",
       "      <td>24.000000</td>\n",
       "      <td>711.000000</td>\n",
       "      <td>22.000000</td>\n",
       "      <td>396.900000</td>\n",
       "      <td>37.970000</td>\n",
       "      <td>50.000000</td>\n",
       "    </tr>\n",
       "  </tbody>\n",
       "</table>\n",
       "</div>"
      ],
      "text/plain": [
       "             CRIM          ZN       INDUS        CHAS         NOX          RM  \\\n",
       "count  506.000000  506.000000  506.000000  506.000000  506.000000  506.000000   \n",
       "mean     3.613524   11.363636   11.136779    0.069170    0.554695    6.284634   \n",
       "std      8.601545   23.322453    6.860353    0.253994    0.115878    0.702617   \n",
       "min      0.006320    0.000000    0.460000    0.000000    0.385000    3.561000   \n",
       "25%      0.082045    0.000000    5.190000    0.000000    0.449000    5.885500   \n",
       "50%      0.256510    0.000000    9.690000    0.000000    0.538000    6.208500   \n",
       "75%      3.677083   12.500000   18.100000    0.000000    0.624000    6.623500   \n",
       "max     88.976200  100.000000   27.740000    1.000000    0.871000    8.780000   \n",
       "\n",
       "              AGE         DIS         RAD         TAX     PTRATIO           B  \\\n",
       "count  506.000000  506.000000  506.000000  506.000000  506.000000  506.000000   \n",
       "mean    68.574901    3.795043    9.549407  408.237154   18.455534  356.674032   \n",
       "std     28.148861    2.105710    8.707259  168.537116    2.164946   91.294864   \n",
       "min      2.900000    1.129600    1.000000  187.000000   12.600000    0.320000   \n",
       "25%     45.025000    2.100175    4.000000  279.000000   17.400000  375.377500   \n",
       "50%     77.500000    3.207450    5.000000  330.000000   19.050000  391.440000   \n",
       "75%     94.075000    5.188425   24.000000  666.000000   20.200000  396.225000   \n",
       "max    100.000000   12.126500   24.000000  711.000000   22.000000  396.900000   \n",
       "\n",
       "            LSTAT        MEDV  \n",
       "count  506.000000  506.000000  \n",
       "mean    12.653063   22.532806  \n",
       "std      7.141062    9.197104  \n",
       "min      1.730000    5.000000  \n",
       "25%      6.950000   17.025000  \n",
       "50%     11.360000   21.200000  \n",
       "75%     16.955000   25.000000  \n",
       "max     37.970000   50.000000  "
      ]
     },
     "execution_count": 5,
     "metadata": {},
     "output_type": "execute_result"
    }
   ],
   "source": [
    "bdata_df.describe()"
   ]
  },
  {
   "cell_type": "markdown",
   "metadata": {},
   "source": [
    "### 1.1: Histogram of housing prices"
   ]
  },
  {
   "cell_type": "code",
   "execution_count": 51,
   "metadata": {},
   "outputs": [
    {
     "data": {
      "image/png": "[encoded data removed]",
      "text/plain": [
       "<Figure size 432x288 with 1 Axes>"
      ]
     },
     "metadata": {
      "needs_background": "light"
     },
     "output_type": "display_data"
    }
   ],
   "source": [
    "# prepare your jupyter notebook to work with matplotlib and import the library to something convenient\n",
    "%matplotlib inline  \n",
    "import matplotlib.pyplot as plt  \n",
    "\n",
    "# edit the code below to make the graph look good\n",
    "fig, ax = plt.subplots()\n",
    "plt.hist(bdata_df['MEDV'], bins = 50, color='g')\n",
    "plt.xticks(np.arange(0,55,5))\n",
    "plt.xlabel('Median Target Home Value (Thousand Dollars)')\n",
    "plt.ylabel('Number of Houses')\n",
    "plt.title('Boston Housing Prices')\n",
    "ax.spines['top'].set_visible(False)\n",
    "ax.spines['right'].set_visible(False)\n",
    "plt.show()"
   ]
  },
  {
   "cell_type": "markdown",
   "metadata": {},
   "source": [
    "### 1.2: Scatter plot of housing prices and crime"
   ]
  },
  {
   "cell_type": "code",
   "execution_count": 7,
   "metadata": {},
   "outputs": [
    {
     "data": {
      "image/png": "[encoded data removed]",
      "text/plain": [
       "<Figure size 432x288 with 1 Axes>"
      ]
     },
     "metadata": {
      "needs_background": "light"
     },
     "output_type": "display_data"
    }
   ],
   "source": [
    "# enter your code below\n",
    "fig, ax = plt.subplots()\n",
    "plt.scatter(x=bdata_df['CRIM'], y=bdata_df['MEDV'], s=20)\n",
    "plt.xlabel('Crime Rate (per capita by town)')\n",
    "plt.ylabel('Median Target Home Value (Thousand Dollars)')\n",
    "plt.title('Boston Crime Rate Versus Median Home Value')\n",
    "ax.spines['top'].set_visible(False)\n",
    "ax.spines['right'].set_visible(False)\n",
    "plt.show()"
   ]
  },
  {
   "cell_type": "markdown",
   "metadata": {},
   "source": [
    "### 1.3 Create your own (creative and effective) visualization"
   ]
  },
  {
   "cell_type": "code",
   "execution_count": 8,
   "metadata": {},
   "outputs": [],
   "source": [
    "# subsetting target home prices based on whether they're bounded by the charles river \n",
    "river_price = bdata_df['MEDV'].loc[bdata_df['CHAS'] == 1]\n",
    "no_river_price = bdata_df['MEDV'].loc[bdata_df['CHAS'] == 0]\n",
    "\n",
    "sub_data = [river_price, no_river_price]"
   ]
  },
  {
   "cell_type": "code",
   "execution_count": 9,
   "metadata": {},
   "outputs": [
    {
     "data": {
      "image/png": "[encoded data removed]",
      "text/plain": [
       "<Figure size 720x576 with 1 Axes>"
      ]
     },
     "metadata": {
      "needs_background": "light"
     },
     "output_type": "display_data"
    }
   ],
   "source": [
    "# enter your code here\n",
    "\n",
    "fig, ax = plt.subplots(figsize=(10,8))\n",
    "\n",
    "ax.boxplot(sub_data)\n",
    "ax.set_xticklabels(['Bounded by Charles River', 'Not Bounded by Charles River'])\n",
    "plt.ylabel('Median Target Home Value (Thousand Dollars)')\n",
    "plt.title('Boston Home Value: Bounded/Not Bounded by the Charles River')\n",
    "ax.spines['top'].set_visible(False)\n",
    "ax.spines['right'].set_visible(False)\n",
    "\n",
    "plt.show()"
   ]
  },
  {
   "cell_type": "markdown",
   "metadata": {},
   "source": [
    "---\n",
    "\n",
    "## Part 2: Experimental Setup\n",
    "\n",
    "\n",
    "\n",
    "### 2.1 Begin by writing a function to compute the Root Mean Squared Error for a list of numbers\n",
    "\n",
    "\n"
   ]
  },
  {
   "cell_type": "code",
   "execution_count": 10,
   "metadata": {},
   "outputs": [],
   "source": [
    "\"\"\"\n",
    "Function\n",
    "--------\n",
    "compute_rmse\n",
    "\n",
    "Given two arrays, one of actual values and one of predicted values,\n",
    "compute the Roote Mean Squared Error\n",
    "\n",
    "Parameters\n",
    "----------\n",
    "predictions : array\n",
    "    Array of numerical values corresponding to predictions for each of the N observations\n",
    "\n",
    "yvalues : array\n",
    "    Array of numerical values corresponding to the actual values for each of the N observations\n",
    "\n",
    "Returns\n",
    "-------\n",
    "rmse : int\n",
    "    Root Mean Squared Error of the prediction\n",
    "\n",
    "Example\n",
    "-------\n",
    ">>> print(compute_rmse((2,2,3),(0,2,6))\n",
    "2.0816659994661326\n",
    "\"\"\"\n",
    "def compute_rmse(predictions, yvalues):\n",
    "    # importing numpy \n",
    "    import numpy as np\n",
    "    \n",
    "    diff = np.subtract(predictions,yvalues)\n",
    "    rmse = np.sqrt(np.mean(diff**2))\n",
    "    \n",
    "    return rmse\n",
    "    "
   ]
  },
  {
   "cell_type": "code",
   "execution_count": 11,
   "metadata": {},
   "outputs": [
    {
     "name": "stdout",
     "output_type": "stream",
     "text": [
      "2.0816659994661326\n"
     ]
    }
   ],
   "source": [
    "# Example RMSE \n",
    "predictions = (2,2,3)\n",
    "yvalues=(0,2,6)\n",
    "print(compute_rmse(predictions, yvalues))"
   ]
  },
  {
   "cell_type": "markdown",
   "metadata": {},
   "source": [
    "### 2.2 Divide your data into training and testing datasets\n",
    "\n",
    "\n"
   ]
  },
  {
   "cell_type": "code",
   "execution_count": 4,
   "metadata": {},
   "outputs": [],
   "source": [
    "np.random.seed(seed=13579)\n",
    "\n",
    "\"\"\"\n",
    "Function\n",
    "--------\n",
    "split_data\n",
    "\n",
    "Will split a given dataframe into a training and test dataset. Function is expecting a dataframe as the data. \n",
    "\n",
    "Parameters\n",
    "----------\n",
    "data : dataframe\n",
    "    Dataframe which is being split into training and test dataset.\n",
    "\n",
    "test_size : float\n",
    "    Proportion of the dataset which should be set aside to become the test dataset\n",
    "    \n",
    "seed : int\n",
    "    Used for setting a seed (for reproducible results when randomizing)\n",
    "\n",
    "Returns\n",
    "-------\n",
    "test_data : dataframe\n",
    "    Dataframe of the test data\n",
    "\n",
    "train_data : dataframe\n",
    "    Dataframe of the training data \n",
    "\n",
    "\"\"\"\n",
    "\n",
    "def split_data(data, test_size, seed=13579):\n",
    "    \n",
    "    if test_size >= 1 or test_size <= 0:\n",
    "        print('Please provide an appropriate test size (float between 0 and 1).')\n",
    "        return\n",
    "    \n",
    "    np.random.seed(seed)\n",
    "    data = data.copy() # create copy as to not alter the original dataset\n",
    "    np.random.shuffle(data.values) # shuffle the dataset\n",
    "    \n",
    "    test_rows = int(len(data)*test_size)\n",
    "    train_rows = int(len(data) - test_rows)\n",
    "    \n",
    "    test_data = data[:test_rows]\n",
    "    train_data = data[test_rows:]\n",
    "    \n",
    "    return test_data, train_data\n",
    "    \n",
    "    "
   ]
  },
  {
   "cell_type": "code",
   "execution_count": 13,
   "metadata": {},
   "outputs": [],
   "source": [
    "bdata_test, bdata_train = split_data(bdata_df, test_size=.34)"
   ]
  },
  {
   "cell_type": "code",
   "execution_count": 14,
   "metadata": {},
   "outputs": [
    {
     "name": "stdout",
     "output_type": "stream",
     "text": [
      "506\n",
      "334\n",
      "172\n"
     ]
    }
   ],
   "source": [
    "print(len(bdata_df)) # original dataset\n",
    "print(len(bdata_train)) # training dataset which is 66% of original data\n",
    "print(len(bdata_test)) # testing dataset which is 34% of original data "
   ]
  },
  {
   "cell_type": "markdown",
   "metadata": {},
   "source": [
    "### 2.3 Use a very bad baseline for prediction, and compute RMSE\n"
   ]
  },
  {
   "cell_type": "code",
   "execution_count": 15,
   "metadata": {},
   "outputs": [
    {
     "name": "stdout",
     "output_type": "stream",
     "text": [
      "Training RMSE: 9.432586352934967\n",
      "Testing RMSE: 8.693449994558764\n"
     ]
    }
   ],
   "source": [
    "# enter your code here\n",
    "from copy import deepcopy \n",
    "\n",
    "train_target_price_mean = np.mean(bdata_df['MEDV']) # calculating the mean of the target price column\n",
    "#print(train_target_price_mean)\n",
    "\n",
    "# creating new column with mean of TARGET HOUSE PRICE for the training dataset\n",
    "bdata_train = deepcopy(bdata_train) # use deepcopy to avoid errors when setting value of new column\n",
    "bdata_train['MEANV'] = train_target_price_mean\n",
    "\n",
    "# creating a new column with mean of TARGET HOSUE PRICE for the testing dataset\n",
    "bdata_test = deepcopy(bdata_test)\n",
    "bdata_test['MEANV'] = train_target_price_mean\n",
    "\n",
    "train_rmse = compute_rmse(bdata_train['MEANV'], bdata_train['MEDV'])\n",
    "test_rmse = compute_rmse(bdata_test['MEANV'], bdata_test['MEDV'])\n",
    "\n",
    "print(\"Training RMSE:\", train_rmse)\n",
    "print(\"Testing RMSE:\", test_rmse)\n"
   ]
  },
  {
   "cell_type": "markdown",
   "metadata": {},
   "source": [
    "#### *Observations:*\n",
    "\n",
    "The Training RMSE is higher than the Testing RMSE. This means that the model hasn't overfit the data. However, the RMSE for the training set was 9.43, showing how much our estimates (in this case the MEAN of the houses target price) deviated from the actual houses' target prices. House target prices ranged from 5 to 50 (in thousand dollars), meaning a RMSE of 9.43 is quite high (a high difference between predicted values, the MEAN house target price, and that of the actual value). Furthermore, as the mean was used as the model, the RMSE and the standard deviation are relatively the same. \n",
    "\n",
    "On the other hand, the RMSE for the testing set is slightly lower than the training RMSE. This may be because the testing set contained less data than the training dataset. Furthermore, it may also be because the test dataset had more target home prices that were closer to the mean. "
   ]
  },
  {
   "cell_type": "markdown",
   "metadata": {},
   "source": [
    "---\n",
    "\n",
    "## Part 3: Nearest Neighbors\n"
   ]
  },
  {
   "cell_type": "markdown",
   "metadata": {},
   "source": [
    "### 3.1 Nearest Neighbors: Distance function\n"
   ]
  },
  {
   "cell_type": "code",
   "execution_count": 16,
   "metadata": {},
   "outputs": [],
   "source": [
    "\"\"\"\n",
    "Function\n",
    "--------\n",
    "distance\n",
    "\n",
    "Given two instances and a value for L, return the L-Norm distance between them\n",
    "\n",
    "Parameters\n",
    "----------\n",
    "x1, x2 : array\n",
    "    Array of numerical values corresponding to predictions for each of the N observations\n",
    "\n",
    "L: int\n",
    "    Value of L to use in computing distances\n",
    "\n",
    "Returns\n",
    "-------\n",
    "dist : int\n",
    "    The L-norm distance between instances\n",
    "\n",
    "Example\n",
    "-------\n",
    ">>> print(distance((3,4),(6,8),2))\n",
    "5.0\n",
    "\n",
    "\"\"\"\n",
    "def distance(x1, x2, L):\n",
    "    \n",
    "    import numpy as np # for calculating functions \n",
    "    # convert arrays into an array (if they weren't already)\n",
    "    x1 = np.array(x1) \n",
    "    x2 = np.array(x2)\n",
    "\n",
    "    diff = np.abs(x1-x2) # get the absolute difference between arrays \n",
    "    diff_pow = np.power(diff, float(L)) # resulting difference array is raised to the L \n",
    "    diff_sum = np.sum(diff_pow) # sum the resulting array\n",
    "    dist = np.power(diff_sum, float(1/L)) # raise the array to the 1/L\n",
    "    \n",
    "    return dist"
   ]
  },
  {
   "cell_type": "code",
   "execution_count": 17,
   "metadata": {},
   "outputs": [
    {
     "name": "stdout",
     "output_type": "stream",
     "text": [
      "L2: 5.0\n",
      "L1: 7.0\n"
     ]
    }
   ],
   "source": [
    "# x1 = (3,4)\n",
    "# x2 = (6,8)\n",
    "# L = 1\n",
    "print(\"L2:\", distance((3,4),(6,8),2))\n",
    "print(\"L1:\", distance((3,4),(6,8),1))"
   ]
  },
  {
   "cell_type": "markdown",
   "metadata": {},
   "source": [
    "### 3.2 Basic Nearest Neighbor algorithm\n"
   ]
  },
  {
   "cell_type": "code",
   "execution_count": 18,
   "metadata": {},
   "outputs": [],
   "source": [
    "\"\"\"\n",
    "Function\n",
    "--------\n",
    "nneighbor\n",
    "\n",
    "    Calculate basic nearest neighbors using input features and an output feature.\n",
    "    This function is tailored for the Boston Housing dataset. Function expects inputs to be a dataframe.\n",
    "\n",
    "Parameters\n",
    "----------\n",
    "train_df, test_df : dataframe\n",
    "    Dataframes of the training dataset and test dataset.\n",
    "\n",
    "input_feat, output_feat: list\n",
    "    Expecting a list of feature names for input and the output feature. \n",
    "    \n",
    "L: int\n",
    "    Value of L to use in computing distances \n",
    "\n",
    "Returns\n",
    "-------\n",
    "rmse : int\n",
    "    Root Mean Squared Error of the prediction\n",
    "    \n",
    "time_taken \n",
    "    The time it took to complete calculations\n",
    "    \n",
    "Example\n",
    "-------\n",
    ">>> nneighbor(train_df=bdata_train, test_df=bdata_test, input_feat=['CRIM', 'RM'], output_feat=['MEDV'], L=2)\n",
    "Time taken: 2.71 seconds\n",
    "6.681010099809551\n",
    "\"\"\"\n",
    "\n",
    "import time # used for timing the function\n",
    "def nneighbor(train_df, test_df, input_feat, output_feat, L):\n",
    "    \n",
    "    start_time = time.time()\n",
    "    \n",
    "    # subsetting the test and train dataframes into the input and output features\n",
    "    x_train = train_df[input_feat] # training dataset with input features\n",
    "    y_train = train_df[output_feat] # training dataset with output feature(s)\n",
    "    x_test = test_df[input_feat] # test dataset with input features\n",
    "    y_test = test_df[output_feat].values.flatten().tolist() # test data output result(s); converted to list for computing RMSE\n",
    "    \n",
    "    # create empty list to store the distances\n",
    "    dist_list=[]\n",
    "\n",
    "    for i, test_row in x_test.iterrows(): # iterate through the test dataset (get the # of rows needed)\n",
    "        min_dist = None\n",
    "        for j, train_row in x_train.iterrows(): # iterate through the entire training dataset \n",
    "            dist = distance(train_row, test_row, L) # find the distance between the training j'th row with the testing i'th row\n",
    "            \n",
    "            if min_dist == None: # set the first calculated distance as the baseline\n",
    "                min_dist = dist\n",
    "                pred_value = y_train.loc[j].item()\n",
    "            elif dist < min_dist: # for subsequence calculated distances, check if lower than the previous minimum distance\n",
    "                min_dist = dist\n",
    "                pred_value = y_train.loc[j].item()\n",
    "        \n",
    "        dist_pred_list = [] # empty list to store minimum distance and corresponding predicted value \n",
    "        dist_pred_list.append(min_dist)\n",
    "        dist_pred_list.append(pred_value)\n",
    "        dist_list.append(dist_pred_list)# append the minimum distance and the corresponding training dataset predicted values (MEDV for this assignment) \n",
    "\n",
    "    predicted_values = [item[1] for item in dist_list] # select the predicted values (index 1 of the list)\n",
    "    \n",
    "    rmse = compute_rmse(predicted_values, y_test)\n",
    "    time_taken = round(time.time() - start_time,2)\n",
    "\n",
    "    #print(\"Time taken: \" + str(round(time.time() - start_time,2)) + \" seconds\") # commenting out so 10 lines aren't reported for cross validation\n",
    "    #print(\"RMSE:\", rmse)\n",
    "    return rmse, time_taken"
   ]
  },
  {
   "cell_type": "code",
   "execution_count": 19,
   "metadata": {},
   "outputs": [
    {
     "name": "stdout",
     "output_type": "stream",
     "text": [
      "Time taken: 3.94\n",
      "RMSE: 6.669354593787499\n"
     ]
    }
   ],
   "source": [
    "# input_feat=['CRIM', 'RM'] # input features\n",
    "# output_feat=['MEDV'] # output features/what is being predicted in the test dataset\n",
    "# train_df = bdata_train\n",
    "# test_df = bdata_test\n",
    "rmse, time_taken = nneighbor(train_df=bdata_train, test_df=bdata_test, input_feat=['CRIM', 'RM'], output_feat=['MEDV'], L=2)\n",
    "print('Time taken:', time_taken)\n",
    "print('RMSE:', rmse)"
   ]
  },
  {
   "cell_type": "markdown",
   "metadata": {},
   "source": [
    "### 3.3 Results and Normalization\n",
    "\n"
   ]
  },
  {
   "cell_type": "code",
   "execution_count": 20,
   "metadata": {},
   "outputs": [],
   "source": [
    "\"\"\"\n",
    "Function\n",
    "--------\n",
    "normalize\n",
    "\n",
    "    Normalizes a dataset's features. Normalizing takes an array of values for a feature and normalizes the data\n",
    "    by subtracting the mean and dividing by the standard deviation.\n",
    "\n",
    "Parameters\n",
    "----------\n",
    "raw_data : dataframe or array\n",
    "    Data that is being normalized\n",
    "    \n",
    "output_feat : list of strings\n",
    "    If a dataframe is input, this will indicate which column to not normalize, as in \n",
    "    the output_feat is not a feature that should be normalized.\n",
    "\n",
    "is_df : boolean\n",
    "    Indicates whether or not the raw_data input is a dataframe. \n",
    "\n",
    "Returns\n",
    "-------\n",
    "normalized_data : dataframe or array\n",
    "    Returns a dataset that has been normalized\n",
    "    \n",
    "Example\n",
    "-------\n",
    "bdata_train_norm = normalize(bdata_train, is_df=True)\n",
    "bdata_test_norm = normalize(bdata_test, is_df=True)\n",
    "\n",
    "nneighbor(train_df=bdata_train_norm, test_df=bdata_test_norm, input_feat=['CRIM', 'RM'], output_feat=['MEDV'], L=2)\n",
    "\n",
    "\"\"\"\n",
    "def normalize(raw_data, output_feat=[], is_df = False):\n",
    "    \n",
    "    normalized_data = raw_data.copy() # create copy of raw_data as to not alter the original data\n",
    "    \n",
    "    if is_df == False: # if input data is an array, normalize as such\n",
    "        for i in range(0, normalized_data.shape[1]): # iterate through each list in the array\n",
    "            feat_mean = np.mean(normalized_data[:,i]) # find the mean of the feature list\n",
    "            feat_std = np.std(normalized_data[:,i]) # find the std deviation of the feature list\n",
    "            normalized_data[:,i] = np.divide((np.subtract(normalized_data[:,i], feat_mean)), feat_std) # normalize data inline \n",
    "    else: # if the input data is a dataframe, normalize as such \n",
    "        for col in normalized_data:\n",
    "            if col not in output_feat: # exclude normlization of any output features\n",
    "                feat_mean = np.mean(normalized_data[col]) # find the column's mean\n",
    "                feat_std = np.std(normalized_data[col]) # find the column's std\n",
    "                normalized_data[col] = normalized_data[col] - feat_mean # subtract by feature mean\n",
    "                normalized_data[col] = np.divide(normalized_data[col], feat_std) # divide by feature std\n",
    "        \n",
    "    return normalized_data\n"
   ]
  },
  {
   "cell_type": "code",
   "execution_count": 21,
   "metadata": {},
   "outputs": [],
   "source": [
    "bdata_train_norm = normalize(bdata_train, output_feat=['MEDV'], is_df=True)\n",
    "bdata_test_norm = normalize(bdata_test, output_feat=['MEDV'], is_df=True)"
   ]
  },
  {
   "cell_type": "code",
   "execution_count": 22,
   "metadata": {},
   "outputs": [
    {
     "name": "stdout",
     "output_type": "stream",
     "text": [
      "Time taken: 3.65\n",
      "RMSE: 6.759360434861577\n"
     ]
    }
   ],
   "source": [
    "rmse, time_taken = nneighbor(train_df=bdata_train_norm, test_df=bdata_test_norm, input_feat=['CRIM', 'RM'], output_feat=['MEDV'], L=2)\n",
    "print('Time taken:', time_taken)\n",
    "print('RMSE:', rmse)"
   ]
  },
  {
   "cell_type": "markdown",
   "metadata": {},
   "source": [
    "#### *Observations:*\n",
    "\n",
    "The RMSE has increased slightly to 6.759 in comparison to the original datasets without normalization. The process of normalization helps to adjust the different scales that the features may have. Ultimately, this will help to change the data to a more common scale. For example, this is important for features like CRIM and RM as CRIM is the crime rate (ranging from <1 to 88.9) whereas RM ranges from 3.56 to 8.78 (as the average number of rooms per home/dwelling). The scale for both of these features is quite different, and normalizing looks to tackle that problem. "
   ]
  },
  {
   "cell_type": "markdown",
   "metadata": {},
   "source": [
    "### 3.4 Optimization\n",
    "\n"
   ]
  },
  {
   "cell_type": "code",
   "execution_count": 23,
   "metadata": {},
   "outputs": [
    {
     "name": "stdout",
     "output_type": "stream",
     "text": [
      "Features used: LSTAT, INDUS\n",
      "Time taken: 3.7\n",
      "RMSE: 5.4133018767940815\n"
     ]
    }
   ],
   "source": [
    "print('Features used: LSTAT, INDUS')\n",
    "rmse, time_taken = nneighbor(train_df=bdata_train_norm, test_df=bdata_test_norm, input_feat=['LSTAT', 'INDUS'], output_feat=['MEDV'], L=2)\n",
    "print('Time taken:', time_taken)\n",
    "print('RMSE:', rmse)"
   ]
  },
  {
   "cell_type": "code",
   "execution_count": 24,
   "metadata": {},
   "outputs": [
    {
     "name": "stdout",
     "output_type": "stream",
     "text": [
      "Features used: CRIM, LSTAT | L = 2\n",
      "Time taken: 3.19\n",
      "RMSE: 6.289267343731719\n"
     ]
    }
   ],
   "source": [
    "print('Features used: CRIM, LSTAT | L = 2')\n",
    "rmse, time_taken = nneighbor(train_df=bdata_train_norm, test_df=bdata_test_norm, input_feat=['CRIM', 'LSTAT'], output_feat=['MEDV'], L=2)\n",
    "print('Time taken:', time_taken)\n",
    "print('RMSE:', rmse)"
   ]
  },
  {
   "cell_type": "code",
   "execution_count": 25,
   "metadata": {},
   "outputs": [
    {
     "name": "stdout",
     "output_type": "stream",
     "text": [
      "Features used: CRIM, LSTAT | L = 5\n",
      "Time taken: 2.7\n",
      "RMSE: 6.184757143997859\n"
     ]
    }
   ],
   "source": [
    "print('Features used: CRIM, LSTAT | L = 5')\n",
    "rmse, time_taken = nneighbor(train_df=bdata_train_norm, test_df=bdata_test_norm, input_feat=['CRIM', 'LSTAT'], output_feat=['MEDV'], L=5)\n",
    "print('Time taken:', time_taken)\n",
    "print('RMSE:', rmse)"
   ]
  },
  {
   "cell_type": "code",
   "execution_count": 26,
   "metadata": {},
   "outputs": [
    {
     "name": "stdout",
     "output_type": "stream",
     "text": [
      "Features used: CRIM, RM, LSTAT, PTRATIO | L = 2\n",
      "Time taken: 3.1\n",
      "RMSE: 3.60530132921211\n"
     ]
    }
   ],
   "source": [
    "print('Features used: CRIM, RM, LSTAT, PTRATIO | L = 2')\n",
    "rmse, time_taken = nneighbor(train_df=bdata_train_norm, test_df=bdata_test_norm, input_feat=['CRIM', 'RM', 'LSTAT', 'PTRATIO'], output_feat=['MEDV'], L=2)\n",
    "print('Time taken:', time_taken)\n",
    "print('RMSE:', rmse)"
   ]
  },
  {
   "cell_type": "code",
   "execution_count": 27,
   "metadata": {},
   "outputs": [
    {
     "name": "stdout",
     "output_type": "stream",
     "text": [
      "Features used: CRIM, RM, LSTAT, PTRATIO | L = 5\n",
      "Time taken: 3.04\n",
      "RMSE: 3.50399273918755\n"
     ]
    }
   ],
   "source": [
    "print('Features used: CRIM, RM, LSTAT, PTRATIO | L = 5')\n",
    "rmse, time_taken = nneighbor(train_df=bdata_train_norm, test_df=bdata_test_norm, input_feat=['CRIM', 'RM', 'LSTAT', 'PTRATIO'], output_feat=['MEDV'], L=5)\n",
    "print('Time taken:', time_taken)\n",
    "print('RMSE:', rmse)"
   ]
  },
  {
   "cell_type": "markdown",
   "metadata": {},
   "source": [
    "#### *Observations:*\n",
    "\n",
    "Using LSTAT (lower status of the population) and INDUS (proportion of non-retail business acres) netted a RMSE of 5.61. This is better compared to just using CRIM and RM. \n",
    "\n",
    "Raising the L decreases the RMSE. This decrease in the RMSE is greater when there are additional features added (compare when only using CRIM and LSTAT versus using CRIM, RM, LSTAT, and PTRATIO). However, it would seem that increasing the L increases the time to calculate the RMSE (although this varies and is somewhat inconsistent). \n",
    "\n",
    "Using four features (CRIM, RM, LSTAT, PTRATIO) netted a relatively low RMSE, and increasing the L to 5 decreased the RMSE even more. It is interesting to note that the RM feature was particularly impactful in lowering the RMSE (decreasing the RMSE by ~3). This may be because the number of rooms can be an indicator of the size of a house, and larger houses are typically more expensive. "
   ]
  },
  {
   "cell_type": "markdown",
   "metadata": {},
   "source": [
    "### 3.5 Cross-Validation\n",
    "\n"
   ]
  },
  {
   "cell_type": "code",
   "execution_count": 28,
   "metadata": {},
   "outputs": [],
   "source": [
    "\"\"\"\n",
    "Function\n",
    "--------\n",
    "kfold_cross_val\n",
    "\n",
    "Conduct 10-fold cross validation and reports the RMSE for nearest neighbors (either basic or KNN). \n",
    "\n",
    "Parameters\n",
    "----------\n",
    "data : dataframe\n",
    "    Dataframe which will be used\n",
    "\n",
    "input_feat: list\n",
    "    Input features being used for prediction\n",
    "\n",
    "output_feat: list\n",
    "    Output feature that is being predicted\n",
    "\n",
    "L: int\n",
    "    Value of L to use in computing distances\n",
    "\n",
    "K: int\n",
    "    Value for the number of nearest neighbors\n",
    "\n",
    "KNN: boolean\n",
    "    Indicates whether the function is being used for basic nearest neighbors or KNN\n",
    "\n",
    "Returns\n",
    "-------\n",
    "rmse_avg : int\n",
    "    The average RMSE of the datasets (10 folds). \n",
    "    \n",
    "time_taken\n",
    "    The time it took to complete calculations\n",
    "\n",
    "\"\"\"\n",
    "def kfold_cross_val(data, input_feat, output_feat, L, k_fold = 10, K=1, KNN=False):\n",
    "    \"\"\"Function to divide dataset into 10 equally sized samples for K-fold cross validation. \n",
    "    Function assumes that input data is a dataframe.\"\"\"\n",
    "    \n",
    "    start_time = time.time()\n",
    "\n",
    "    data = data.copy() # create a copy of the dataframe\n",
    "    np.random.seed(seed=13579) # set seed for reproducible results\n",
    "    np.random.shuffle(data.values) # shuffle the dataset\n",
    "    samples = np.array_split(data, k_fold) # split the data into 10 equally sized samples\n",
    "    rmse_list = [] # list to store RMSE \n",
    "    \n",
    "    for i in range(len(samples)): # iterate over each sample dataset\n",
    "        test_df = samples[i] # iterate through each sample set to be the test set\n",
    "        train_df = samples.copy() # create copy to avoid altering original\n",
    "        del train_df[i] # delete the i'th element (as it is the test set/not part of training)\n",
    "        train_df = pd.concat(train_df) # combine the list of dataframes\n",
    "        \n",
    "        # normalize the data\n",
    "        test_df = normalize(test_df, output_feat, is_df=True) \n",
    "        train_df = normalize(train_df, output_feat, is_df=True)\n",
    "        \n",
    "        # calculate basic nearest neighbors\n",
    "        if KNN == False: # check if using basic nearest neighbor or K-nearest neighbor \n",
    "            rmse, time_taken = nneighbor(train_df, test_df, input_feat, output_feat, L)\n",
    "        else:\n",
    "            rmse, time_taken = knn(train_df, test_df, input_feat, output_feat, L, K)\n",
    "        rmse_list.append(rmse)\n",
    "    \n",
    "    rmse_avg = np.mean(rmse_list)\n",
    "    time_taken = round(time.time() - start_time,2)\n",
    "    #print(\"Time taken: \" + str(round(time.time() - start_time,2)) + \" seconds\")\n",
    "    return rmse_avg, time_taken\n"
   ]
  },
  {
   "cell_type": "code",
   "execution_count": 29,
   "metadata": {},
   "outputs": [
    {
     "name": "stdout",
     "output_type": "stream",
     "text": [
      "RMSE:  6.627706197551741\n",
      "Time Taken: 11.71\n"
     ]
    }
   ],
   "source": [
    "np.random.seed(seed=13579) # assuming random seed from before\n",
    "rmse_avg, time_taken = kfold_cross_val(data=bdata_df, input_feat=['CRIM', 'RM'], output_feat=['MEDV'], L=2)\n",
    "print(\"RMSE: \", rmse_avg)\n",
    "print(\"Time Taken:\", time_taken)"
   ]
  },
  {
   "cell_type": "markdown",
   "metadata": {},
   "source": [
    "### 3.6 K-Nearest Neighbors Algorithm\n",
    "\n"
   ]
  },
  {
   "cell_type": "code",
   "execution_count": 30,
   "metadata": {},
   "outputs": [],
   "source": [
    "\"\"\"\n",
    "Function\n",
    "--------\n",
    "knn\n",
    "\n",
    "    Calculate K-nearest neighbors using input features and an output feature.\n",
    "    This function is tailored for the Boston Housing dataset. Function expects inputs to be a dataframe.\n",
    "    Finds K-nearest neighbors and retrives \n",
    "\n",
    "Parameters\n",
    "----------\n",
    "train_df, test_df : dataframe\n",
    "    Dataframes of the training dataset and test dataset.\n",
    "\n",
    "input_feat, output_feat: list\n",
    "    Expecting a list of feature names for input and the output feature. \n",
    "    \n",
    "L: int\n",
    "    Value of L to use in computing distances \n",
    "    \n",
    "K: int\n",
    "    Indicates the number of nearest neighbors to find \n",
    "\n",
    "Returns\n",
    "-------\n",
    "rmse : int\n",
    "    Root Mean Squared Error of the prediction. \n",
    "\"\"\"\n",
    "def knn(train_df, test_df, input_feat, output_feat, L, K):\n",
    "    \n",
    "    start_time = time.time()\n",
    "    \n",
    "    # subsetting the test and train dataframes into the input and output features\n",
    "    x_train = train_df[input_feat] # training dataset with input features\n",
    "    y_train = train_df[output_feat] # training dataset with output feature(s)\n",
    "    x_test = test_df[input_feat] # test dataset with input features\n",
    "    y_test = test_df[output_feat].values.flatten().tolist() # test data output result(s); converted to list for computing RMSE\n",
    "    \n",
    "    dist_pred_list = []\n",
    "    \n",
    "    for i, test_row in x_test.iterrows(): # iterate through the test dataset (get the # of rows needed)\n",
    "        temp_list = []\n",
    "        for j, train_row in x_train.iterrows(): # iterate through the entire training dataset \n",
    "            dist = distance(train_row, test_row, L) # find the distance between the training j'th row with the testing i'th row\n",
    "            pred_value = y_train.loc[j].item() # find corresponding predicted value\n",
    "            temp_list.append((dist, pred_value)) # append all distance and predicted value\n",
    "        temp_list.sort() # sort list of distance and predicted values by distance (ascending order)\n",
    "        dist_pred_mean = np.mean(temp_list[0:K], axis = 0) # get the mean of distance and predicted value based on K-NN (closest distance)\n",
    "        dist_pred_list.append(dist_pred_mean) # append mean values of NN (distance and predicted value) to list\n",
    "        \n",
    "    predicted_values = [item[1] for item in dist_pred_list] # create list of predicted values (length == y_test)\n",
    "    \n",
    "    rmse = compute_rmse(predicted_values, y_test)\n",
    "    \n",
    "    time_taken = round(time.time() - start_time,2)\n",
    "    \n",
    "    return rmse, time_taken"
   ]
  },
  {
   "cell_type": "code",
   "execution_count": 31,
   "metadata": {},
   "outputs": [
    {
     "name": "stdout",
     "output_type": "stream",
     "text": [
      "RMSE: 5.897805800971891\n",
      "Time Taken: 36.19\n"
     ]
    }
   ],
   "source": [
    "# 10-fold cross validation with K=3 and input features of CRIM and RM\n",
    "rmse, time_taken = kfold_cross_val(data=bdata_df, input_feat=['CRIM', 'RM'], output_feat=['MEDV'], L=2, K=3, KNN=True)\n",
    "print('RMSE:', rmse)\n",
    "print('Time Taken:', time_taken)"
   ]
  },
  {
   "cell_type": "markdown",
   "metadata": {},
   "source": [
    "### 3.7 Using cross validation to find K\n",
    "\n"
   ]
  },
  {
   "cell_type": "code",
   "execution_count": 32,
   "metadata": {},
   "outputs": [],
   "source": [
    "# setting features \n",
    "input_feat = ['CRIM', 'ZN', 'RM', 'AGE', 'DIS', 'TAX']\n",
    "output_feat = ['MEDV']\n",
    "K=25"
   ]
  },
  {
   "cell_type": "code",
   "execution_count": 33,
   "metadata": {},
   "outputs": [
    {
     "name": "stdout",
     "output_type": "stream",
     "text": [
      "Time taken: 807.19 seconds\n"
     ]
    }
   ],
   "source": [
    "# running 10 fold cross validation for values of K between 1 and 25\n",
    "rmse_k25 = [] # list to store rmse (K = 1 through K = 25)\n",
    "time_k25 = [] # list to store time taken for each RMSE \n",
    "start_time = time.time()\n",
    "\n",
    "for i in range(1, K+1):\n",
    "    rmse, time_taken = kfold_cross_val(data=bdata_df, input_feat=input_feat, output_feat=output_feat, L=2, K=i, KNN=True)\n",
    "    rmse_k25.append(rmse)\n",
    "    time_k25.append(time_taken)\n",
    "\n",
    "print(\"Time taken: \" + str(round(time.time() - start_time,2)) + \" seconds\")"
   ]
  },
  {
   "cell_type": "code",
   "execution_count": 34,
   "metadata": {},
   "outputs": [],
   "source": [
    "k_values = np.arange(1,26) # create list 1:25\n",
    "k25_df = pd.DataFrame({'k_value':k_values, 'RMSE':rmse_k25, 'Time_Taken':time_k25}) # create dataframe of results "
   ]
  },
  {
   "cell_type": "code",
   "execution_count": 35,
   "metadata": {},
   "outputs": [
    {
     "data": {
      "image/png": "[encoded data removed]",
      "text/plain": [
       "<Figure size 504x288 with 1 Axes>"
      ]
     },
     "metadata": {
      "needs_background": "light"
     },
     "output_type": "display_data"
    }
   ],
   "source": [
    "fig, ax = plt.subplots(figsize=(7,4))\n",
    "plt.plot(k25_df['k_value'], k25_df['RMSE'])\n",
    "plt.plot(k25_df['k_value'][4], k25_df['RMSE'][4], 'r.')\n",
    "plt.xticks(np.arange(1, 26))\n",
    "plt.ylabel('Root Mean Squared Error')\n",
    "plt.xlabel('Iteration for K-Neighbors')\n",
    "plt.title('RMSE for K-Nearest Neighbors (1 through 25)')\n",
    "ax.spines['top'].set_visible(False)\n",
    "ax.spines['right'].set_visible(False)\n",
    "plt.annotate(round(k25_df['RMSE'][4], 3),(k25_df['k_value'][4], k25_df['RMSE'][4]), xytext=(4,5.14))\n",
    "plt.show()"
   ]
  },
  {
   "cell_type": "code",
   "execution_count": 38,
   "metadata": {},
   "outputs": [],
   "source": [
    "# uncomment for plot on time taken for each K \n",
    "# fig, ax = plt.subplots()\n",
    "# plt.plot(k25_df['k_value'], k25_df['Time_Taken'])\n",
    "# plt.plot(k25_df['k_value'][4], k25_df['Time_Taken'][4], 'r.')\n",
    "# plt.xticks(np.arange(1, 26))\n",
    "# plt.ylabel('Time Taken (Seconds)')\n",
    "# plt.xlabel('Iteration for K-Neighbors')\n",
    "# plt.title('Time Taken for K-Nearest Neighbors (1 through 25)')\n",
    "# ax.spines['top'].set_visible(False)\n",
    "# ax.spines['right'].set_visible(False)\n",
    "# plt.show()"
   ]
  },
  {
   "cell_type": "markdown",
   "metadata": {},
   "source": [
    "#### *Observations:*\n",
    "\n",
    "The lowest RMSE results are when K is 4, 5, or 6. However, K = 5 produced the lowest RMSE, and would likely be the most reasonable choice if choosing for K. Too low of a K means that outliers/noise may heavily influence the predicted results (leading to a higher RMSE), meaning that the model is overfitting the data. In the case of overfitting, the data has high variance. \n",
    "When the RMSE increases after K=5, the model becomes 'simpler' and underfits the data. The higher the K, the more the predicted results will 'smooth out,' and, in this case, matching the mean of the predicted value from dataset (mean of the median home value for our dataset). This means that there is high bias by using too high of a K. "
   ]
  }
 ],
 "metadata": {
  "kernelspec": {
   "display_name": "Python 3",
   "language": "python",
   "name": "python3"
  },
  "language_info": {
   "codemirror_mode": {
    "name": "ipython",
    "version": 3
   },
   "file_extension": ".py",
   "mimetype": "text/x-python",
   "name": "python",
   "nbconvert_exporter": "python",
   "pygments_lexer": "ipython3",
   "version": "3.7.1"
  }
 },
 "nbformat": 4,
 "nbformat_minor": 1
}
